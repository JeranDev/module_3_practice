{
 "cells": [
  {
   "cell_type": "code",
   "execution_count": 1,
   "metadata": {},
   "outputs": [],
   "source": [
    "import pandas as pd\n",
    "df = pd.read_csv('horse_racing.csv')"
   ]
  },
  {
   "cell_type": "code",
   "execution_count": 2,
   "metadata": {},
   "outputs": [
    {
     "data": {
      "text/html": [
       "<div>\n",
       "<style scoped>\n",
       "    .dataframe tbody tr th:only-of-type {\n",
       "        vertical-align: middle;\n",
       "    }\n",
       "\n",
       "    .dataframe tbody tr th {\n",
       "        vertical-align: top;\n",
       "    }\n",
       "\n",
       "    .dataframe thead th {\n",
       "        text-align: right;\n",
       "    }\n",
       "</style>\n",
       "<table border=\"1\" class=\"dataframe\">\n",
       "  <thead>\n",
       "    <tr style=\"text-align: right;\">\n",
       "      <th></th>\n",
       "      <th>Dato</th>\n",
       "      <th>Track</th>\n",
       "      <th>Race Number</th>\n",
       "      <th>Distance</th>\n",
       "      <th>Surface</th>\n",
       "      <th>Prize money</th>\n",
       "      <th>Starting position</th>\n",
       "      <th>Jockey</th>\n",
       "      <th>Jockey weight</th>\n",
       "      <th>Country</th>\n",
       "      <th>...</th>\n",
       "      <th>TrainerName</th>\n",
       "      <th>Race time</th>\n",
       "      <th>Path</th>\n",
       "      <th>Final place</th>\n",
       "      <th>FGrating</th>\n",
       "      <th>Odds</th>\n",
       "      <th>RaceType</th>\n",
       "      <th>HorseId</th>\n",
       "      <th>JockeyId</th>\n",
       "      <th>TrainerID</th>\n",
       "    </tr>\n",
       "  </thead>\n",
       "  <tbody>\n",
       "    <tr>\n",
       "      <th>0</th>\n",
       "      <td>03.09.2017</td>\n",
       "      <td>Sha Tin</td>\n",
       "      <td>10</td>\n",
       "      <td>1400</td>\n",
       "      <td>Gress</td>\n",
       "      <td>1310000</td>\n",
       "      <td>6</td>\n",
       "      <td>K C Leung</td>\n",
       "      <td>52</td>\n",
       "      <td>Sverige</td>\n",
       "      <td>...</td>\n",
       "      <td>CH Yip</td>\n",
       "      <td>8338</td>\n",
       "      <td>2</td>\n",
       "      <td>9</td>\n",
       "      <td>110</td>\n",
       "      <td>22</td>\n",
       "      <td>Handicap</td>\n",
       "      <td>1736</td>\n",
       "      <td>8656</td>\n",
       "      <td>6687</td>\n",
       "    </tr>\n",
       "    <tr>\n",
       "      <th>1</th>\n",
       "      <td>16.09.2017</td>\n",
       "      <td>Sha Tin</td>\n",
       "      <td>10</td>\n",
       "      <td>1400</td>\n",
       "      <td>Gress</td>\n",
       "      <td>1310000</td>\n",
       "      <td>14</td>\n",
       "      <td>C Y Ho</td>\n",
       "      <td>52</td>\n",
       "      <td>Sverige</td>\n",
       "      <td>...</td>\n",
       "      <td>CH Yip</td>\n",
       "      <td>8156</td>\n",
       "      <td>3</td>\n",
       "      <td>4</td>\n",
       "      <td>124</td>\n",
       "      <td>48</td>\n",
       "      <td>Handicap</td>\n",
       "      <td>1736</td>\n",
       "      <td>8659</td>\n",
       "      <td>6687</td>\n",
       "    </tr>\n",
       "    <tr>\n",
       "      <th>2</th>\n",
       "      <td>14.10.2017</td>\n",
       "      <td>Sha Tin</td>\n",
       "      <td>10</td>\n",
       "      <td>1400</td>\n",
       "      <td>Gress</td>\n",
       "      <td>1310000</td>\n",
       "      <td>8</td>\n",
       "      <td>C Y Ho</td>\n",
       "      <td>52</td>\n",
       "      <td>Sverige</td>\n",
       "      <td>...</td>\n",
       "      <td>CH Yip</td>\n",
       "      <td>8236</td>\n",
       "      <td>1</td>\n",
       "      <td>6</td>\n",
       "      <td>118</td>\n",
       "      <td>11</td>\n",
       "      <td>Handicap</td>\n",
       "      <td>1736</td>\n",
       "      <td>8659</td>\n",
       "      <td>6687</td>\n",
       "    </tr>\n",
       "    <tr>\n",
       "      <th>3</th>\n",
       "      <td>11.11.2017</td>\n",
       "      <td>Sha Tin</td>\n",
       "      <td>9</td>\n",
       "      <td>1600</td>\n",
       "      <td>Gress</td>\n",
       "      <td>1310000</td>\n",
       "      <td>13</td>\n",
       "      <td>Brett Prebble</td>\n",
       "      <td>54</td>\n",
       "      <td>Sverige</td>\n",
       "      <td>...</td>\n",
       "      <td>CH Yip</td>\n",
       "      <td>9653</td>\n",
       "      <td>0</td>\n",
       "      <td>8</td>\n",
       "      <td>107</td>\n",
       "      <td>11</td>\n",
       "      <td>Handicap</td>\n",
       "      <td>1736</td>\n",
       "      <td>8453</td>\n",
       "      <td>6687</td>\n",
       "    </tr>\n",
       "    <tr>\n",
       "      <th>4</th>\n",
       "      <td>26.11.2017</td>\n",
       "      <td>Sha Tin</td>\n",
       "      <td>9</td>\n",
       "      <td>1600</td>\n",
       "      <td>Gress</td>\n",
       "      <td>1310000</td>\n",
       "      <td>9</td>\n",
       "      <td>C Y Ho</td>\n",
       "      <td>52</td>\n",
       "      <td>Sverige</td>\n",
       "      <td>...</td>\n",
       "      <td>CH Yip</td>\n",
       "      <td>9417</td>\n",
       "      <td>0</td>\n",
       "      <td>3</td>\n",
       "      <td>123</td>\n",
       "      <td>40</td>\n",
       "      <td>Handicap</td>\n",
       "      <td>1736</td>\n",
       "      <td>8659</td>\n",
       "      <td>6687</td>\n",
       "    </tr>\n",
       "  </tbody>\n",
       "</table>\n",
       "<p>5 rows × 21 columns</p>\n",
       "</div>"
      ],
      "text/plain": [
       "         Dato    Track  Race Number  Distance Surface  Prize money  \\\n",
       "0  03.09.2017  Sha Tin           10      1400   Gress      1310000   \n",
       "1  16.09.2017  Sha Tin           10      1400   Gress      1310000   \n",
       "2  14.10.2017  Sha Tin           10      1400   Gress      1310000   \n",
       "3  11.11.2017  Sha Tin            9      1600   Gress      1310000   \n",
       "4  26.11.2017  Sha Tin            9      1600   Gress      1310000   \n",
       "\n",
       "   Starting position         Jockey  Jockey weight  Country  ...  TrainerName  \\\n",
       "0                  6      K C Leung             52  Sverige  ...       CH Yip   \n",
       "1                 14         C Y Ho             52  Sverige  ...       CH Yip   \n",
       "2                  8         C Y Ho             52  Sverige  ...       CH Yip   \n",
       "3                 13  Brett Prebble             54  Sverige  ...       CH Yip   \n",
       "4                  9         C Y Ho             52  Sverige  ...       CH Yip   \n",
       "\n",
       "  Race time  Path  Final place  FGrating  Odds  RaceType HorseId  JockeyId  \\\n",
       "0      8338     2            9       110    22  Handicap    1736      8656   \n",
       "1      8156     3            4       124    48  Handicap    1736      8659   \n",
       "2      8236     1            6       118    11  Handicap    1736      8659   \n",
       "3      9653     0            8       107    11  Handicap    1736      8453   \n",
       "4      9417     0            3       123    40  Handicap    1736      8659   \n",
       "\n",
       "   TrainerID  \n",
       "0       6687  \n",
       "1       6687  \n",
       "2       6687  \n",
       "3       6687  \n",
       "4       6687  \n",
       "\n",
       "[5 rows x 21 columns]"
      ]
     },
     "execution_count": 2,
     "metadata": {},
     "output_type": "execute_result"
    }
   ],
   "source": [
    "df.head()"
   ]
  },
  {
   "cell_type": "code",
   "execution_count": 3,
   "metadata": {},
   "outputs": [
    {
     "name": "stdout",
     "output_type": "stream",
     "text": [
      "<class 'pandas.core.frame.DataFrame'>\n",
      "RangeIndex: 27008 entries, 0 to 27007\n",
      "Data columns (total 21 columns):\n",
      " #   Column             Non-Null Count  Dtype \n",
      "---  ------             --------------  ----- \n",
      " 0   Dato               27008 non-null  object\n",
      " 1   Track              27008 non-null  object\n",
      " 2   Race Number        27008 non-null  int64 \n",
      " 3   Distance           27008 non-null  int64 \n",
      " 4   Surface            27008 non-null  object\n",
      " 5   Prize money        27008 non-null  int64 \n",
      " 6   Starting position  27008 non-null  int64 \n",
      " 7   Jockey             27008 non-null  object\n",
      " 8   Jockey weight      27008 non-null  int64 \n",
      " 9   Country            27008 non-null  object\n",
      " 10  Horse age          27008 non-null  int64 \n",
      " 11  TrainerName        27008 non-null  object\n",
      " 12  Race time          27008 non-null  int64 \n",
      " 13  Path               27008 non-null  int64 \n",
      " 14  Final place        27008 non-null  int64 \n",
      " 15  FGrating           27008 non-null  int64 \n",
      " 16  Odds               27008 non-null  int64 \n",
      " 17  RaceType           27008 non-null  object\n",
      " 18  HorseId            27008 non-null  int64 \n",
      " 19  JockeyId           27008 non-null  int64 \n",
      " 20  TrainerID          27008 non-null  int64 \n",
      "dtypes: int64(14), object(7)\n",
      "memory usage: 4.3+ MB\n"
     ]
    }
   ],
   "source": [
    "df.info()"
   ]
  },
  {
   "cell_type": "markdown",
   "metadata": {},
   "source": [
    "Question 1: Of all the rows in the data set what was the average weight of a jockey? Weights are listed in kilograms. Round to two decimal places."
   ]
  },
  {
   "cell_type": "code",
   "execution_count": 4,
   "metadata": {},
   "outputs": [
    {
     "data": {
      "text/plain": [
       "55.87"
      ]
     },
     "execution_count": 4,
     "metadata": {},
     "output_type": "execute_result"
    }
   ],
   "source": [
    "round(df['Jockey weight'].mean(), 2)"
   ]
  },
  {
   "cell_type": "markdown",
   "metadata": {},
   "source": [
    "Question 2: What was the average race time for jockey Brett Prebble? Round to two decimal places."
   ]
  },
  {
   "cell_type": "code",
   "execution_count": 5,
   "metadata": {},
   "outputs": [
    {
     "data": {
      "text/plain": [
       "7517.2"
      ]
     },
     "execution_count": 5,
     "metadata": {},
     "output_type": "execute_result"
    }
   ],
   "source": [
    "brett_df = df[df[\"Jockey\"] == 'Brett Prebble']\n",
    "\n",
    "round(brett_df['Race time'].mean(), 2)"
   ]
  },
  {
   "cell_type": "markdown",
   "metadata": {},
   "source": [
    "Question 3: Create a new dataframe that contains rows where horses and their jockeys won first place. How much money did first place jockeys win, on average? The money unit is Hong Kong dollars (HKD). Round to two decimal places."
   ]
  },
  {
   "cell_type": "code",
   "execution_count": 6,
   "metadata": {},
   "outputs": [
    {
     "data": {
      "text/plain": [
       "1534781.48"
      ]
     },
     "execution_count": 6,
     "metadata": {},
     "output_type": "execute_result"
    }
   ],
   "source": [
    "first_place_df = df[df['Final place'] == 1]\n",
    "\n",
    "round(first_place_df['Prize money'].mean(), 2)"
   ]
  },
  {
   "cell_type": "markdown",
   "metadata": {},
   "source": [
    "Question 4: Did winning horses tend to run on dirt or grass surfaces?"
   ]
  },
  {
   "cell_type": "code",
   "execution_count": 7,
   "metadata": {},
   "outputs": [
    {
     "data": {
      "text/html": [
       "<div>\n",
       "<style scoped>\n",
       "    .dataframe tbody tr th:only-of-type {\n",
       "        vertical-align: middle;\n",
       "    }\n",
       "\n",
       "    .dataframe tbody tr th {\n",
       "        vertical-align: top;\n",
       "    }\n",
       "\n",
       "    .dataframe thead th {\n",
       "        text-align: right;\n",
       "    }\n",
       "</style>\n",
       "<table border=\"1\" class=\"dataframe\">\n",
       "  <thead>\n",
       "    <tr style=\"text-align: right;\">\n",
       "      <th></th>\n",
       "      <th>HorseId</th>\n",
       "    </tr>\n",
       "    <tr>\n",
       "      <th>Surface</th>\n",
       "      <th></th>\n",
       "    </tr>\n",
       "  </thead>\n",
       "  <tbody>\n",
       "    <tr>\n",
       "      <th>Dirt</th>\n",
       "      <td>273</td>\n",
       "    </tr>\n",
       "    <tr>\n",
       "      <th>Gress</th>\n",
       "      <td>1952</td>\n",
       "    </tr>\n",
       "  </tbody>\n",
       "</table>\n",
       "</div>"
      ],
      "text/plain": [
       "         HorseId\n",
       "Surface         \n",
       "Dirt         273\n",
       "Gress       1952"
      ]
     },
     "execution_count": 7,
     "metadata": {},
     "output_type": "execute_result"
    }
   ],
   "source": [
    "first_place_df[['HorseId','Surface']].groupby('Surface').count()"
   ]
  },
  {
   "cell_type": "markdown",
   "metadata": {},
   "source": [
    "Question 5: What was the fastest race time among horses that ran the 1400 meter race? The units given are in seconds (sometimes, the data is dirty, just assume they are all seconds for now)."
   ]
  },
  {
   "cell_type": "code",
   "execution_count": 8,
   "metadata": {},
   "outputs": [
    {
     "data": {
      "text/plain": [
       "82"
      ]
     },
     "execution_count": 8,
     "metadata": {},
     "output_type": "execute_result"
    }
   ],
   "source": [
    "distance_1400_df = df[df['Distance'] == 1400]\n",
    "\n",
    "distance_1400_df['Race time'].min()"
   ]
  },
  {
   "cell_type": "markdown",
   "metadata": {},
   "source": [
    "Question 6: What was the slowest race time among Irish horses who ran the 1400 meter race?"
   ]
  },
  {
   "cell_type": "code",
   "execution_count": 9,
   "metadata": {},
   "outputs": [
    {
     "data": {
      "text/plain": [
       "9291"
      ]
     },
     "execution_count": 9,
     "metadata": {},
     "output_type": "execute_result"
    }
   ],
   "source": [
    "# Used this to find Ireland was spelled 'Irland'\n",
    "# df[['HorseId', 'Country']].groupby('Country').count()\n",
    "\n",
    "irish_distance_1400_df = df[(df['Distance'] == 1400) & (df['Country'] == 'Irland')]\n",
    "\n",
    "irish_distance_1400_df['Race time'].max()"
   ]
  },
  {
   "cell_type": "markdown",
   "metadata": {},
   "source": [
    "Question 7: Which Australian jockey has competed in the most races?"
   ]
  },
  {
   "cell_type": "code",
   "execution_count": 10,
   "metadata": {},
   "outputs": [
    {
     "data": {
      "text/html": [
       "<div>\n",
       "<style scoped>\n",
       "    .dataframe tbody tr th:only-of-type {\n",
       "        vertical-align: middle;\n",
       "    }\n",
       "\n",
       "    .dataframe tbody tr th {\n",
       "        vertical-align: top;\n",
       "    }\n",
       "\n",
       "    .dataframe thead th {\n",
       "        text-align: right;\n",
       "    }\n",
       "</style>\n",
       "<table border=\"1\" class=\"dataframe\">\n",
       "  <thead>\n",
       "    <tr style=\"text-align: right;\">\n",
       "      <th></th>\n",
       "      <th>JockeyId</th>\n",
       "    </tr>\n",
       "    <tr>\n",
       "      <th>Jockey</th>\n",
       "      <th></th>\n",
       "    </tr>\n",
       "  </thead>\n",
       "  <tbody>\n",
       "    <tr>\n",
       "      <th>Joao Moreira</th>\n",
       "      <td>945</td>\n",
       "    </tr>\n",
       "    <tr>\n",
       "      <th>Z Purton</th>\n",
       "      <td>892</td>\n",
       "    </tr>\n",
       "    <tr>\n",
       "      <th>K Teetan</th>\n",
       "      <td>883</td>\n",
       "    </tr>\n",
       "    <tr>\n",
       "      <th>C Y Ho</th>\n",
       "      <td>759</td>\n",
       "    </tr>\n",
       "    <tr>\n",
       "      <th>K C Leung</th>\n",
       "      <td>697</td>\n",
       "    </tr>\n",
       "    <tr>\n",
       "      <th>...</th>\n",
       "      <td>...</td>\n",
       "    </tr>\n",
       "    <tr>\n",
       "      <th>H Lam</th>\n",
       "      <td>1</td>\n",
       "    </tr>\n",
       "    <tr>\n",
       "      <th>Flavien Prat</th>\n",
       "      <td>1</td>\n",
       "    </tr>\n",
       "    <tr>\n",
       "      <th>Wayne Smith</th>\n",
       "      <td>1</td>\n",
       "    </tr>\n",
       "    <tr>\n",
       "      <th>Yutaka Take</th>\n",
       "      <td>1</td>\n",
       "    </tr>\n",
       "    <tr>\n",
       "      <th>M Walker</th>\n",
       "      <td>1</td>\n",
       "    </tr>\n",
       "  </tbody>\n",
       "</table>\n",
       "<p>71 rows × 1 columns</p>\n",
       "</div>"
      ],
      "text/plain": [
       "              JockeyId\n",
       "Jockey                \n",
       "Joao Moreira       945\n",
       "Z Purton           892\n",
       "K Teetan           883\n",
       "C Y Ho             759\n",
       "K C Leung          697\n",
       "...                ...\n",
       "H Lam                1\n",
       "Flavien Prat         1\n",
       "Wayne Smith          1\n",
       "Yutaka Take          1\n",
       "M Walker             1\n",
       "\n",
       "[71 rows x 1 columns]"
      ]
     },
     "execution_count": 10,
     "metadata": {},
     "output_type": "execute_result"
    }
   ],
   "source": [
    "aussie_df = df[df['Country'] == 'Australia']\n",
    "\n",
    "aussie_df[['Jockey', 'JockeyId']].groupby('Jockey').count().sort_values(by='JockeyId', ascending=False)"
   ]
  },
  {
   "cell_type": "markdown",
   "metadata": {},
   "source": [
    "Question 8: Assume that greater odds indicates a lesser likelihood to win the race. According to this data set, which jockey out of Australia, Ireland, or the New Zealand has the least likelihood to win a race, on average (ie. the highest odds)?"
   ]
  },
  {
   "cell_type": "code",
   "execution_count": 11,
   "metadata": {},
   "outputs": [
    {
     "data": {
      "text/html": [
       "<div>\n",
       "<style scoped>\n",
       "    .dataframe tbody tr th:only-of-type {\n",
       "        vertical-align: middle;\n",
       "    }\n",
       "\n",
       "    .dataframe tbody tr th {\n",
       "        vertical-align: top;\n",
       "    }\n",
       "\n",
       "    .dataframe thead th {\n",
       "        text-align: right;\n",
       "    }\n",
       "</style>\n",
       "<table border=\"1\" class=\"dataframe\">\n",
       "  <thead>\n",
       "    <tr style=\"text-align: right;\">\n",
       "      <th></th>\n",
       "      <th>Odds</th>\n",
       "    </tr>\n",
       "    <tr>\n",
       "      <th>Jockey</th>\n",
       "      <th></th>\n",
       "    </tr>\n",
       "  </thead>\n",
       "  <tbody>\n",
       "    <tr>\n",
       "      <th>H Lam</th>\n",
       "      <td>316.500000</td>\n",
       "    </tr>\n",
       "    <tr>\n",
       "      <th>B Avdulla</th>\n",
       "      <td>208.000000</td>\n",
       "    </tr>\n",
       "    <tr>\n",
       "      <th>Wayne Smith</th>\n",
       "      <td>205.500000</td>\n",
       "    </tr>\n",
       "    <tr>\n",
       "      <th>H W Lai</th>\n",
       "      <td>117.364621</td>\n",
       "    </tr>\n",
       "    <tr>\n",
       "      <th>T H So</th>\n",
       "      <td>109.710021</td>\n",
       "    </tr>\n",
       "    <tr>\n",
       "      <th>...</th>\n",
       "      <td>...</td>\n",
       "    </tr>\n",
       "    <tr>\n",
       "      <th>K Tosaki</th>\n",
       "      <td>36.500000</td>\n",
       "    </tr>\n",
       "    <tr>\n",
       "      <th>Yutaka Take</th>\n",
       "      <td>34.000000</td>\n",
       "    </tr>\n",
       "    <tr>\n",
       "      <th>Javier Castellano</th>\n",
       "      <td>26.000000</td>\n",
       "    </tr>\n",
       "    <tr>\n",
       "      <th>Y Iwata</th>\n",
       "      <td>22.000000</td>\n",
       "    </tr>\n",
       "    <tr>\n",
       "      <th>William Buick</th>\n",
       "      <td>17.000000</td>\n",
       "    </tr>\n",
       "  </tbody>\n",
       "</table>\n",
       "<p>81 rows × 1 columns</p>\n",
       "</div>"
      ],
      "text/plain": [
       "                         Odds\n",
       "Jockey                       \n",
       "H Lam              316.500000\n",
       "B Avdulla          208.000000\n",
       "Wayne Smith        205.500000\n",
       "H W Lai            117.364621\n",
       "T H So             109.710021\n",
       "...                       ...\n",
       "K Tosaki            36.500000\n",
       "Yutaka Take         34.000000\n",
       "Javier Castellano   26.000000\n",
       "Y Iwata             22.000000\n",
       "William Buick       17.000000\n",
       "\n",
       "[81 rows x 1 columns]"
      ]
     },
     "execution_count": 11,
     "metadata": {},
     "output_type": "execute_result"
    }
   ],
   "source": [
    "AU_IE_NZ_df = df[(df['Country'] == 'Australia') | (df['Country'] == 'Irland') | (df['Country'] == 'New Zealand')]\n",
    "\n",
    "AU_IE_NZ_df[[\"Jockey\", \"Odds\"]].groupby(\"Jockey\").mean().sort_values(by=\"Odds\", ascending=False)"
   ]
  },
  {
   "cell_type": "markdown",
   "metadata": {},
   "source": [
    "Question 9: Of all horses age 10 or above, what is the horse ID of the one that has the best average race time (ie. the smallest)?"
   ]
  },
  {
   "cell_type": "code",
   "execution_count": 12,
   "metadata": {},
   "outputs": [
    {
     "data": {
      "text/html": [
       "<div>\n",
       "<style scoped>\n",
       "    .dataframe tbody tr th:only-of-type {\n",
       "        vertical-align: middle;\n",
       "    }\n",
       "\n",
       "    .dataframe tbody tr th {\n",
       "        vertical-align: top;\n",
       "    }\n",
       "\n",
       "    .dataframe thead th {\n",
       "        text-align: right;\n",
       "    }\n",
       "</style>\n",
       "<table border=\"1\" class=\"dataframe\">\n",
       "  <thead>\n",
       "    <tr style=\"text-align: right;\">\n",
       "      <th></th>\n",
       "      <th>Race time</th>\n",
       "    </tr>\n",
       "    <tr>\n",
       "      <th>HorseId</th>\n",
       "      <th></th>\n",
       "    </tr>\n",
       "  </thead>\n",
       "  <tbody>\n",
       "    <tr>\n",
       "      <th>22206</th>\n",
       "      <td>4388.000000</td>\n",
       "    </tr>\n",
       "    <tr>\n",
       "      <th>22527</th>\n",
       "      <td>4925.454545</td>\n",
       "    </tr>\n",
       "    <tr>\n",
       "      <th>22207</th>\n",
       "      <td>4943.000000</td>\n",
       "    </tr>\n",
       "    <tr>\n",
       "      <th>22304</th>\n",
       "      <td>5927.000000</td>\n",
       "    </tr>\n",
       "    <tr>\n",
       "      <th>22173</th>\n",
       "      <td>5970.500000</td>\n",
       "    </tr>\n",
       "    <tr>\n",
       "      <th>22234</th>\n",
       "      <td>6015.666667</td>\n",
       "    </tr>\n",
       "    <tr>\n",
       "      <th>22807</th>\n",
       "      <td>6117.000000</td>\n",
       "    </tr>\n",
       "    <tr>\n",
       "      <th>22862</th>\n",
       "      <td>6472.000000</td>\n",
       "    </tr>\n",
       "    <tr>\n",
       "      <th>22839</th>\n",
       "      <td>6631.875000</td>\n",
       "    </tr>\n",
       "    <tr>\n",
       "      <th>22326</th>\n",
       "      <td>6952.000000</td>\n",
       "    </tr>\n",
       "    <tr>\n",
       "      <th>22290</th>\n",
       "      <td>7015.111111</td>\n",
       "    </tr>\n",
       "    <tr>\n",
       "      <th>22188</th>\n",
       "      <td>7097.666667</td>\n",
       "    </tr>\n",
       "    <tr>\n",
       "      <th>22391</th>\n",
       "      <td>7273.400000</td>\n",
       "    </tr>\n",
       "    <tr>\n",
       "      <th>22728</th>\n",
       "      <td>8097.875000</td>\n",
       "    </tr>\n",
       "    <tr>\n",
       "      <th>22219</th>\n",
       "      <td>8250.200000</td>\n",
       "    </tr>\n",
       "    <tr>\n",
       "      <th>21850</th>\n",
       "      <td>9266.500000</td>\n",
       "    </tr>\n",
       "    <tr>\n",
       "      <th>22724</th>\n",
       "      <td>10090.333333</td>\n",
       "    </tr>\n",
       "    <tr>\n",
       "      <th>22623</th>\n",
       "      <td>10118.333333</td>\n",
       "    </tr>\n",
       "    <tr>\n",
       "      <th>22720</th>\n",
       "      <td>11148.000000</td>\n",
       "    </tr>\n",
       "    <tr>\n",
       "      <th>22872</th>\n",
       "      <td>11967.666667</td>\n",
       "    </tr>\n",
       "  </tbody>\n",
       "</table>\n",
       "</div>"
      ],
      "text/plain": [
       "            Race time\n",
       "HorseId              \n",
       "22206     4388.000000\n",
       "22527     4925.454545\n",
       "22207     4943.000000\n",
       "22304     5927.000000\n",
       "22173     5970.500000\n",
       "22234     6015.666667\n",
       "22807     6117.000000\n",
       "22862     6472.000000\n",
       "22839     6631.875000\n",
       "22326     6952.000000\n",
       "22290     7015.111111\n",
       "22188     7097.666667\n",
       "22391     7273.400000\n",
       "22728     8097.875000\n",
       "22219     8250.200000\n",
       "21850     9266.500000\n",
       "22724    10090.333333\n",
       "22623    10118.333333\n",
       "22720    11148.000000\n",
       "22872    11967.666667"
      ]
     },
     "execution_count": 12,
     "metadata": {},
     "output_type": "execute_result"
    }
   ],
   "source": [
    "horses_age_10_and_above = df[df['Horse age'] >= 10]\n",
    "\n",
    "horses_age_10_and_above[['HorseId', 'Race time']].groupby('HorseId').mean().sort_values(by='Race time')"
   ]
  },
  {
   "cell_type": "markdown",
   "metadata": {},
   "source": [
    "Question 10: Which country won the most races (first place) where the prize money was over $2,000,000?"
   ]
  },
  {
   "cell_type": "code",
   "execution_count": 13,
   "metadata": {},
   "outputs": [
    {
     "data": {
      "text/html": [
       "<div>\n",
       "<style scoped>\n",
       "    .dataframe tbody tr th:only-of-type {\n",
       "        vertical-align: middle;\n",
       "    }\n",
       "\n",
       "    .dataframe tbody tr th {\n",
       "        vertical-align: top;\n",
       "    }\n",
       "\n",
       "    .dataframe thead th {\n",
       "        text-align: right;\n",
       "    }\n",
       "</style>\n",
       "<table border=\"1\" class=\"dataframe\">\n",
       "  <thead>\n",
       "    <tr style=\"text-align: right;\">\n",
       "      <th></th>\n",
       "      <th>Prize money</th>\n",
       "    </tr>\n",
       "    <tr>\n",
       "      <th>Country</th>\n",
       "      <th></th>\n",
       "    </tr>\n",
       "  </thead>\n",
       "  <tbody>\n",
       "    <tr>\n",
       "      <th>Australia</th>\n",
       "      <td>87</td>\n",
       "    </tr>\n",
       "    <tr>\n",
       "      <th>New Zealand</th>\n",
       "      <td>45</td>\n",
       "    </tr>\n",
       "    <tr>\n",
       "      <th>Irland</th>\n",
       "      <td>26</td>\n",
       "    </tr>\n",
       "    <tr>\n",
       "      <th>Great Britain</th>\n",
       "      <td>16</td>\n",
       "    </tr>\n",
       "    <tr>\n",
       "      <th>Frankrike</th>\n",
       "      <td>6</td>\n",
       "    </tr>\n",
       "    <tr>\n",
       "      <th>S?r-Afrika</th>\n",
       "      <td>5</td>\n",
       "    </tr>\n",
       "    <tr>\n",
       "      <th>USA</th>\n",
       "      <td>5</td>\n",
       "    </tr>\n",
       "    <tr>\n",
       "      <th>Japan</th>\n",
       "      <td>4</td>\n",
       "    </tr>\n",
       "    <tr>\n",
       "      <th>Brasil</th>\n",
       "      <td>3</td>\n",
       "    </tr>\n",
       "    <tr>\n",
       "      <th>Tyskland</th>\n",
       "      <td>3</td>\n",
       "    </tr>\n",
       "  </tbody>\n",
       "</table>\n",
       "</div>"
      ],
      "text/plain": [
       "               Prize money\n",
       "Country                   \n",
       "Australia               87\n",
       "New Zealand             45\n",
       "Irland                  26\n",
       "Great Britain           16\n",
       "Frankrike                6\n",
       "S?r-Afrika               5\n",
       "USA                      5\n",
       "Japan                    4\n",
       "Brasil                   3\n",
       "Tyskland                 3"
      ]
     },
     "execution_count": 13,
     "metadata": {},
     "output_type": "execute_result"
    }
   ],
   "source": [
    "first_place_large_prize_df = df[(df['Final place'] == 1) & (df['Prize money'] > 2000000)]\n",
    "\n",
    "first_place_large_prize_df[['Country', 'Prize money']].groupby('Country').count().sort_values(by='Prize money', ascending=False)"
   ]
  }
 ],
 "metadata": {
  "kernelspec": {
   "display_name": "Python 3",
   "language": "python",
   "name": "python3"
  },
  "language_info": {
   "codemirror_mode": {
    "name": "ipython",
    "version": 3
   },
   "file_extension": ".py",
   "mimetype": "text/x-python",
   "name": "python",
   "nbconvert_exporter": "python",
   "pygments_lexer": "ipython3",
   "version": "3.10.0"
  }
 },
 "nbformat": 4,
 "nbformat_minor": 2
}
